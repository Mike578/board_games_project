{
 "cells": [
  {
   "cell_type": "markdown",
   "metadata": {},
   "source": [
    "# Web Scrapping"
   ]
  },
  {
   "cell_type": "markdown",
   "metadata": {},
   "source": [
    "## Introduction"
   ]
  },
  {
   "cell_type": "markdown",
   "metadata": {},
   "source": [
    "<b><i>Data source:</b></i>\n",
    "https://boardgamegeek.com/browse/boardgame  <b>OR</b> <br>\n",
    "--> https://boardgamegeek.com/browse/boardgame/page/1"
   ]
  },
  {
   "cell_type": "markdown",
   "metadata": {},
   "source": [
    "(An inner page looks like: https://boardgamegeek.com/boardgame/224517/brass-birmingham)"
   ]
  },
  {
   "cell_type": "code",
   "execution_count": 42,
   "metadata": {},
   "outputs": [],
   "source": [
    "import pandas as pd\n",
    "import requests\n",
    "from bs4 import BeautifulSoup\n",
    "from random import randint\n",
    "from time import sleep #allows to input a delay between 'clicking' from one page to another so our behavior looks like human"
   ]
  },
  {
   "cell_type": "markdown",
   "metadata": {},
   "source": [
    "## Connection to my 'dummy' account"
   ]
  },
  {
   "cell_type": "markdown",
   "metadata": {},
   "source": [
    "To avoid the connecting issue (otherwise we get limited to 1000 rows maximum), we use a method proposed here to keep our cookies and headers from our connection. After a few days, the info might naturally change so one should do the method again."
   ]
  },
  {
   "cell_type": "markdown",
   "metadata": {},
   "source": [
    "<i><b>Link:</i></b> https://stackoverflow.com/questions/23102833/how-to-scrape-a-website-which-requires-login-using-python-and-beautifulsoup/23103784#23103784\n",
    "<br>\n",
    "--> Apply the second solution with cURL and https://curlconverter.com/"
   ]
  },
  {
   "cell_type": "markdown",
   "metadata": {},
   "source": [
    "<i><b>PS</b></i>: There is maybe an alternative way to get to the same thing, but we won't get there  <br>\n",
    "https://stackoverflow.com/questions/13925983/login-to-website-using-urllib2-python-2-7"
   ]
  },
  {
   "cell_type": "code",
   "execution_count": 43,
   "metadata": {},
   "outputs": [],
   "source": [
    "cookies = {\n",
    "    'FCCDCF': '%5Bnull%2Cnull%2Cnull%2C%5B%22CP9Q9kAP9Q9kAEsACBFRAwEgAAAAAEPgACiQAAAOhQD2F2K2kKFkPCmQWYAQBCijYEAhQAAAAkCBIAAgAUgQAgFIIAgAIFAAAAAAAAAQEgCQAAQABAAAIACgAAAAAAIAAAAAAAQQAAAAAIAAAAAAAAEAAAAAAAQAAAAIAABEgCAAQQAEAAAAAAAQAAAAAAAAAAABAAA%22%2C%222~~dv.2072.70.89.93.108.122.149.196.2253.2299.259.2357.311.313.323.2373.338.358.2415.415.449.2506.2526.486.494.495.2568.2571.2575.540.574.2624.609.2677.864.981.1029.1048.1051.1095.1097.1126.1205.1211.1276.1301.1365.1415.1423.1449.1570.1577.1598.1651.1716.1735.1753.1765.1870.1878.1889.1896.1958%22%2C%22A560738A-122E-4B51-B968-7994D6C9E38E%22%5D%5D',\n",
    "    'cc_cookie': '%7B%22level%22%3A%5B%22necessary%22%5D%2C%22revision%22%3A1%2C%22data%22%3Anull%2C%22rfc_cookie%22%3Atrue%7D',\n",
    "    'bggusername': 'Irontest',\n",
    "    'bggpassword': 'nhyy68l5vny1srd10rduqbrjcobsm1udc',\n",
    "    'SessionID': '1a8759180f8f796082abe96595a4a0c1a1f8d053u3859721',\n",
    "    '__eoi': 'ID=0d10bef624742d14:T=1713449399:RT=1713452023:S=AA-Afjb8azZ-uxQU98rEZZtzelNW',\n",
    "}\n",
    "\n",
    "headers = {\n",
    "    'accept': 'text/html,application/xhtml+xml,application/xml;q=0.9,image/avif,image/webp,image/apng,*/*;q=0.8,application/signed-exchange;v=b3;q=0.7',\n",
    "    'accept-language': 'fr-FR,fr;q=0.9',\n",
    "    'cache-control': 'max-age=0',\n",
    "    # 'cookie': 'FCCDCF=%5Bnull%2Cnull%2Cnull%2C%5B%22CP9Q9kAP9Q9kAEsACBFRAwEgAAAAAEPgACiQAAAOhQD2F2K2kKFkPCmQWYAQBCijYEAhQAAAAkCBIAAgAUgQAgFIIAgAIFAAAAAAAAAQEgCQAAQABAAAIACgAAAAAAIAAAAAAAQQAAAAAIAAAAAAAAEAAAAAAAQAAAAIAABEgCAAQQAEAAAAAAAQAAAAAAAAAAABAAA%22%2C%222~~dv.2072.70.89.93.108.122.149.196.2253.2299.259.2357.311.313.323.2373.338.358.2415.415.449.2506.2526.486.494.495.2568.2571.2575.540.574.2624.609.2677.864.981.1029.1048.1051.1095.1097.1126.1205.1211.1276.1301.1365.1415.1423.1449.1570.1577.1598.1651.1716.1735.1753.1765.1870.1878.1889.1896.1958%22%2C%22A560738A-122E-4B51-B968-7994D6C9E38E%22%5D%5D; cc_cookie=%7B%22level%22%3A%5B%22necessary%22%5D%2C%22revision%22%3A1%2C%22data%22%3Anull%2C%22rfc_cookie%22%3Atrue%7D; bggusername=Irontest; bggpassword=nhyy68l5vny1srd10rduqbrjcobsm1udc; SessionID=1a8759180f8f796082abe96595a4a0c1a1f8d053u3859721; __eoi=ID=0d10bef624742d14:T=1713449399:RT=1713452023:S=AA-Afjb8azZ-uxQU98rEZZtzelNW',\n",
    "    'dnt': '1',\n",
    "    'referer': 'https://boardgamegeek.com/browse/boardgame/page/2',\n",
    "    'sec-ch-ua': '\"Google Chrome\";v=\"123\", \"Not:A-Brand\";v=\"8\", \"Chromium\";v=\"123\"',\n",
    "    'sec-ch-ua-mobile': '?0',\n",
    "    'sec-ch-ua-platform': '\"Windows\"',\n",
    "    'sec-fetch-dest': 'document',\n",
    "    'sec-fetch-mode': 'navigate',\n",
    "    'sec-fetch-site': 'same-origin',\n",
    "    'sec-fetch-user': '?1',\n",
    "    'upgrade-insecure-requests': '1',\n",
    "    'user-agent': 'Mozilla/5.0 (Windows NT 10.0; Win64; x64) AppleWebKit/537.36 (KHTML, like Gecko) Chrome/123.0.0.0 Safari/537.36',\n",
    "}\n",
    "\n",
    "response = requests.get('https://boardgamegeek.com/browse/boardgame/page/1', cookies=cookies, headers=headers)"
   ]
  },
  {
   "cell_type": "markdown",
   "metadata": {},
   "source": [
    "## Scraping the data"
   ]
  },
  {
   "cell_type": "code",
   "execution_count": 57,
   "metadata": {},
   "outputs": [],
   "source": [
    "# Function to scrape data from a single page\n",
    "def scrape_page(url):\n",
    "    response = requests.get(url, cookies=cookies, headers=headers)\n",
    "    soup = BeautifulSoup(response.content, 'html.parser')\n",
    "    rows = soup.find_all('tr', {'id': lambda x: x and x.startswith('row_')})\n",
    "    \n",
    "    data = []\n",
    "    for row in rows:\n",
    "        cells = row.find_all('td')\n",
    "        rank = cells[0].text.strip()\n",
    "        title_cell = cells[2]\n",
    "        title_link = title_cell.find('a', class_='primary')\n",
    "        title = title_link.text.strip() if title_link else 'N/A'\n",
    "        game_url = title_link['href'] if title_link else 'N/A'\n",
    "        full_game_url = f'https://boardgamegeek.com{game_url}' if game_url != 'N/A' else 'N/A'\n",
    "        geek_rating = cells[4].text.strip() if cells[4].text.strip() else 'N/A'\n",
    "        avg_rating = cells[5].text.strip() if cells[5].text.strip() else 'N/A'\n",
    "        num_voters = cells[6].text.strip() if cells[6].text.strip() else 'N/A'\n",
    "        data.append([rank, title, full_game_url, geek_rating, avg_rating, num_voters])\n",
    "    \n",
    "    sleep(randint(3,10))\n",
    "    \n",
    "    return data\n"
   ]
  },
  {
   "cell_type": "code",
   "execution_count": 58,
   "metadata": {},
   "outputs": [],
   "source": [
    "# Scrape all pages and concatenate data into a single list\n",
    "all_data = []\n",
    "base_url = 'https://boardgamegeek.com/browse/boardgame/page/'\n",
    "num_pages = 22\n",
    "\n",
    "for page_num in range(1, num_pages + 1):\n",
    "    page_url = f'{base_url}{page_num}'\n",
    "    page_data = scrape_page(page_url)\n",
    "    all_data.extend(page_data)\n",
    "\n",
    "# Create DataFrame\n",
    "df = pd.DataFrame(all_data, columns=['Board Game Rank', 'Title', 'URL', 'Geek Rating', 'Avg Rating', 'Num Voters'])"
   ]
  },
  {
   "cell_type": "code",
   "execution_count": 59,
   "metadata": {},
   "outputs": [
    {
     "data": {
      "text/html": [
       "<div>\n",
       "<style scoped>\n",
       "    .dataframe tbody tr th:only-of-type {\n",
       "        vertical-align: middle;\n",
       "    }\n",
       "\n",
       "    .dataframe tbody tr th {\n",
       "        vertical-align: top;\n",
       "    }\n",
       "\n",
       "    .dataframe thead th {\n",
       "        text-align: right;\n",
       "    }\n",
       "</style>\n",
       "<table border=\"1\" class=\"dataframe\">\n",
       "  <thead>\n",
       "    <tr style=\"text-align: right;\">\n",
       "      <th></th>\n",
       "      <th>Board Game Rank</th>\n",
       "      <th>Title</th>\n",
       "      <th>URL</th>\n",
       "      <th>Geek Rating</th>\n",
       "      <th>Avg Rating</th>\n",
       "      <th>Num Voters</th>\n",
       "    </tr>\n",
       "  </thead>\n",
       "  <tbody>\n",
       "    <tr>\n",
       "      <th>0</th>\n",
       "      <td>1</td>\n",
       "      <td>Brass: Birmingham</td>\n",
       "      <td>https://boardgamegeek.com/boardgame/224517/bra...</td>\n",
       "      <td>8.417</td>\n",
       "      <td>8.60</td>\n",
       "      <td>44645</td>\n",
       "    </tr>\n",
       "    <tr>\n",
       "      <th>1</th>\n",
       "      <td>2</td>\n",
       "      <td>Pandemic Legacy: Season 1</td>\n",
       "      <td>https://boardgamegeek.com/boardgame/161936/pan...</td>\n",
       "      <td>8.382</td>\n",
       "      <td>8.53</td>\n",
       "      <td>53072</td>\n",
       "    </tr>\n",
       "    <tr>\n",
       "      <th>2</th>\n",
       "      <td>3</td>\n",
       "      <td>Gloomhaven</td>\n",
       "      <td>https://boardgamegeek.com/boardgame/174430/glo...</td>\n",
       "      <td>8.358</td>\n",
       "      <td>8.59</td>\n",
       "      <td>61672</td>\n",
       "    </tr>\n",
       "    <tr>\n",
       "      <th>3</th>\n",
       "      <td>4</td>\n",
       "      <td>Ark Nova</td>\n",
       "      <td>https://boardgamegeek.com/boardgame/342942/ark...</td>\n",
       "      <td>8.333</td>\n",
       "      <td>8.54</td>\n",
       "      <td>41833</td>\n",
       "    </tr>\n",
       "    <tr>\n",
       "      <th>4</th>\n",
       "      <td>5</td>\n",
       "      <td>Twilight Imperium: Fourth Edition</td>\n",
       "      <td>https://boardgamegeek.com/boardgame/233078/twi...</td>\n",
       "      <td>8.243</td>\n",
       "      <td>8.61</td>\n",
       "      <td>23340</td>\n",
       "    </tr>\n",
       "    <tr>\n",
       "      <th>...</th>\n",
       "      <td>...</td>\n",
       "      <td>...</td>\n",
       "      <td>...</td>\n",
       "      <td>...</td>\n",
       "      <td>...</td>\n",
       "      <td>...</td>\n",
       "    </tr>\n",
       "    <tr>\n",
       "      <th>2195</th>\n",
       "      <td>2196</td>\n",
       "      <td>Subbuteo</td>\n",
       "      <td>https://boardgamegeek.com/boardgame/3720/subbuteo</td>\n",
       "      <td>6.152</td>\n",
       "      <td>6.99</td>\n",
       "      <td>1840</td>\n",
       "    </tr>\n",
       "    <tr>\n",
       "      <th>2196</th>\n",
       "      <td>2197</td>\n",
       "      <td>Agents of SMERSH</td>\n",
       "      <td>https://boardgamegeek.com/boardgame/111105/age...</td>\n",
       "      <td>6.152</td>\n",
       "      <td>6.96</td>\n",
       "      <td>1679</td>\n",
       "    </tr>\n",
       "    <tr>\n",
       "      <th>2197</th>\n",
       "      <td>2198</td>\n",
       "      <td>The Princes of Machu Picchu</td>\n",
       "      <td>https://boardgamegeek.com/boardgame/36811/prin...</td>\n",
       "      <td>6.152</td>\n",
       "      <td>6.95</td>\n",
       "      <td>1708</td>\n",
       "    </tr>\n",
       "    <tr>\n",
       "      <th>2198</th>\n",
       "      <td>2199</td>\n",
       "      <td>Take it Easy!</td>\n",
       "      <td>https://boardgamegeek.com/boardgame/128/take-i...</td>\n",
       "      <td>6.151</td>\n",
       "      <td>6.61</td>\n",
       "      <td>3202</td>\n",
       "    </tr>\n",
       "    <tr>\n",
       "      <th>2199</th>\n",
       "      <td>2200</td>\n",
       "      <td>Marvel Villainous: Infinite Power</td>\n",
       "      <td>https://boardgamegeek.com/boardgame/302336/mar...</td>\n",
       "      <td>6.151</td>\n",
       "      <td>6.81</td>\n",
       "      <td>2599</td>\n",
       "    </tr>\n",
       "  </tbody>\n",
       "</table>\n",
       "<p>2200 rows × 6 columns</p>\n",
       "</div>"
      ],
      "text/plain": [
       "     Board Game Rank                              Title  \\\n",
       "0                  1                  Brass: Birmingham   \n",
       "1                  2          Pandemic Legacy: Season 1   \n",
       "2                  3                         Gloomhaven   \n",
       "3                  4                           Ark Nova   \n",
       "4                  5  Twilight Imperium: Fourth Edition   \n",
       "...              ...                                ...   \n",
       "2195            2196                           Subbuteo   \n",
       "2196            2197                   Agents of SMERSH   \n",
       "2197            2198        The Princes of Machu Picchu   \n",
       "2198            2199                      Take it Easy!   \n",
       "2199            2200  Marvel Villainous: Infinite Power   \n",
       "\n",
       "                                                    URL Geek Rating  \\\n",
       "0     https://boardgamegeek.com/boardgame/224517/bra...       8.417   \n",
       "1     https://boardgamegeek.com/boardgame/161936/pan...       8.382   \n",
       "2     https://boardgamegeek.com/boardgame/174430/glo...       8.358   \n",
       "3     https://boardgamegeek.com/boardgame/342942/ark...       8.333   \n",
       "4     https://boardgamegeek.com/boardgame/233078/twi...       8.243   \n",
       "...                                                 ...         ...   \n",
       "2195  https://boardgamegeek.com/boardgame/3720/subbuteo       6.152   \n",
       "2196  https://boardgamegeek.com/boardgame/111105/age...       6.152   \n",
       "2197  https://boardgamegeek.com/boardgame/36811/prin...       6.152   \n",
       "2198  https://boardgamegeek.com/boardgame/128/take-i...       6.151   \n",
       "2199  https://boardgamegeek.com/boardgame/302336/mar...       6.151   \n",
       "\n",
       "     Avg Rating Num Voters  \n",
       "0          8.60      44645  \n",
       "1          8.53      53072  \n",
       "2          8.59      61672  \n",
       "3          8.54      41833  \n",
       "4          8.61      23340  \n",
       "...         ...        ...  \n",
       "2195       6.99       1840  \n",
       "2196       6.96       1679  \n",
       "2197       6.95       1708  \n",
       "2198       6.61       3202  \n",
       "2199       6.81       2599  \n",
       "\n",
       "[2200 rows x 6 columns]"
      ]
     },
     "metadata": {},
     "output_type": "display_data"
    }
   ],
   "source": [
    "# Print the DataFrame\n",
    "display(df)"
   ]
  }
 ],
 "metadata": {
  "kernelspec": {
   "display_name": "Python 3",
   "language": "python",
   "name": "python3"
  },
  "language_info": {
   "codemirror_mode": {
    "name": "ipython",
    "version": 3
   },
   "file_extension": ".py",
   "mimetype": "text/x-python",
   "name": "python",
   "nbconvert_exporter": "python",
   "pygments_lexer": "ipython3",
   "version": "3.12.3"
  }
 },
 "nbformat": 4,
 "nbformat_minor": 2
}
