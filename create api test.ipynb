{
 "cells": [
  {
   "cell_type": "code",
   "execution_count": 1,
   "metadata": {},
   "outputs": [
    {
     "name": "stdout",
     "output_type": "stream",
     "text": [
      "Defaulting to user installation because normal site-packages is not writeable\n",
      "Requirement already satisfied: flask in c:\\users\\micel\\appdata\\roaming\\python\\python312\\site-packages (3.0.2)\n",
      "Requirement already satisfied: Werkzeug>=3.0.0 in c:\\users\\micel\\appdata\\roaming\\python\\python312\\site-packages (from flask) (3.0.1)\n",
      "Requirement already satisfied: Jinja2>=3.1.2 in c:\\users\\micel\\appdata\\roaming\\python\\python312\\site-packages (from flask) (3.1.3)\n",
      "Requirement already satisfied: itsdangerous>=2.1.2 in c:\\users\\micel\\appdata\\roaming\\python\\python312\\site-packages (from flask) (2.1.2)\n",
      "Requirement already satisfied: click>=8.1.3 in c:\\users\\micel\\appdata\\roaming\\python\\python312\\site-packages (from flask) (8.1.7)\n",
      "Requirement already satisfied: blinker>=1.6.2 in c:\\users\\micel\\appdata\\roaming\\python\\python312\\site-packages (from flask) (1.7.0)\n",
      "Requirement already satisfied: colorama in c:\\users\\micel\\appdata\\roaming\\python\\python312\\site-packages (from click>=8.1.3->flask) (0.4.6)\n",
      "Requirement already satisfied: MarkupSafe>=2.0 in c:\\users\\micel\\appdata\\roaming\\python\\python312\\site-packages (from Jinja2>=3.1.2->flask) (2.1.5)\n"
     ]
    }
   ],
   "source": [
    "#!pip install flask"
   ]
  },
  {
   "cell_type": "code",
   "execution_count": 1,
   "metadata": {},
   "outputs": [
    {
     "name": "stdout",
     "output_type": "stream",
     "text": [
      " * Serving Flask app '__main__'\n",
      " * Debug mode: off\n"
     ]
    },
    {
     "name": "stderr",
     "output_type": "stream",
     "text": [
      "WARNING: This is a development server. Do not use it in a production deployment. Use a production WSGI server instead.\n",
      " * Running on http://localhost:8080\n",
      "Press CTRL+C to quit\n",
      "127.0.0.1 - - [21/Apr/2024 17:18:53] \"GET / HTTP/1.1\" 200 -\n",
      "127.0.0.1 - - [21/Apr/2024 17:19:08] \"GET /morning HTTP/1.1\" 200 -\n",
      "127.0.0.1 - - [21/Apr/2024 17:19:22] \"GET /evening/<cat>\" HTTP/1.1\" 200 -\n",
      "127.0.0.1 - - [21/Apr/2024 17:19:37] \"GET /evening/<Mike>\" HTTP/1.1\" 200 -\n",
      "127.0.0.1 - - [21/Apr/2024 17:19:54] \"GET /greetings HTTP/1.1\" 404 -\n",
      "127.0.0.1 - - [21/Apr/2024 17:20:12] \"GET /greetings/afternoon HTTP/1.1\" 404 -\n",
      "127.0.0.1 - - [21/Apr/2024 17:20:23] \"GET /greetings/<period_of_day>/<firstname> HTTP/1.1\" 200 -\n",
      "127.0.0.1 - - [21/Apr/2024 17:20:38] \"GET /greetings/<\"afternoon\">/<'firstname'> HTTP/1.1\" 200 -\n",
      "127.0.0.1 - - [21/Apr/2024 17:21:03] \"GET /greetings/<afternoon>/<'firstname'> HTTP/1.1\" 200 -\n",
      "127.0.0.1 - - [21/Apr/2024 17:21:12] \"GET /greetings/'afternoon'/<'firstname'> HTTP/1.1\" 200 -\n",
      "127.0.0.1 - - [21/Apr/2024 17:21:19] \"GET /greetings/afternoon/<'firstname'> HTTP/1.1\" 200 -\n",
      "127.0.0.1 - - [21/Apr/2024 17:21:28] \"GET /greetings/afternoon/Michael HTTP/1.1\" 200 -\n"
     ]
    }
   ],
   "source": [
    "from flask import Flask\n",
    "\n",
    "# Create a Flask application\n",
    "app = Flask(__name__)\n",
    "\n",
    "\n",
    "# Define a route for the root URL '/'\n",
    "@app.route('/')\n",
    "def hello_world():\n",
    "    return 'Hello, World!'\n",
    "\n",
    "@app.route(\"/morning\")\n",
    "def good_morning():\n",
    "    return \"Good morning!\"\n",
    "\n",
    "@app.route(\"/evening/<firstname>\")\n",
    "def good_evening(firstname=\"John\"):\n",
    "    return f\"Good evening {firstname}!\"\n",
    "\n",
    "@app.route(\"/greetings/<period_of_day>/<firstname>\")\n",
    "def greetings(period_of_day, firstname):\n",
    "    return f\"Good {period_of_day}, {firstname}!\"\n",
    "\n",
    "@app.route(\"/add/<int:first>/<int:second>\")\n",
    "def sum(first, second):\n",
    "    return str(first + second)\n",
    "\n",
    "@app.route(\"/afternoon\")\n",
    "def good_afternoon():\n",
    "    firstname = request.args['firstname']\n",
    "    return f\"Good morning {firstname}!\"\n",
    "\n",
    "@app.route(\"/afternoon2\")\n",
    "def good_afternoon2():\n",
    "    firstname = request.args.get('firstname', 'you')\n",
    "    return f\"Good morning, {firstname}!\"\n",
    "\n",
    "@app.route(\"/substract\")\n",
    "def difference():\n",
    "    first = int(request.args.get('first', '0'))\n",
    "    second = int(request.args.get('second', '0'))\n",
    "    return str(first - second)\n",
    "\n",
    "@app.route(\"/hello\")\n",
    "def hello_api():\n",
    "    return {\"message\": \"Hello!\", \"hey\": \"I'm an API!\"}\n",
    "\n",
    "\n",
    "\n",
    "\n",
    "if __name__ == '__main__':\n",
    "    # Run the Flask app on localhost, port 8080\n",
    "    app.run(host='localhost', port=8080)\n"
   ]
  }
 ],
 "metadata": {
  "kernelspec": {
   "display_name": "Python 3",
   "language": "python",
   "name": "python3"
  },
  "language_info": {
   "codemirror_mode": {
    "name": "ipython",
    "version": 3
   },
   "file_extension": ".py",
   "mimetype": "text/x-python",
   "name": "python",
   "nbconvert_exporter": "python",
   "pygments_lexer": "ipython3",
   "version": "3.12.3"
  }
 },
 "nbformat": 4,
 "nbformat_minor": 2
}
